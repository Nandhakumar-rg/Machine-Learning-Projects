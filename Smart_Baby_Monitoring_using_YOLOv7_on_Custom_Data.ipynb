version https://git-lfs.github.com/spec/v1
oid sha256:aa7637bfcea61c514a1ae805b39ad1e6908135ed2e7a147b9866ac28ded1a837
size 9351
